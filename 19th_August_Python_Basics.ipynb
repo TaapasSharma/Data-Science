{
 "cells": [
  {
   "cell_type": "code",
   "execution_count": null,
   "id": "65ded9ed-fbec-452b-8eae-5bf01bfcede9",
   "metadata": {},
   "outputs": [],
   "source": [
    "#Python Basics Variable\n",
    "\n",
    "\"\"\"1. Declare two variables, `x` and `y`, and assign them integer values. Swap the\n",
    "values of these variables without using any temporary variable.\"\"\""
   ]
  },
  {
   "cell_type": "code",
   "execution_count": 8,
   "id": "630d5d32-5632-4994-acb8-9a0e0f2aaa1d",
   "metadata": {},
   "outputs": [],
   "source": [
    "x = 10\n",
    "y = 15\n",
    "\n",
    "x = x + y\n",
    "y = x - y\n",
    "x = x - y\n"
   ]
  },
  {
   "cell_type": "code",
   "execution_count": 9,
   "id": "18f6db64-670e-4e0b-a4ff-202fc62a308e",
   "metadata": {},
   "outputs": [
    {
     "name": "stdout",
     "output_type": "stream",
     "text": [
      "15\n"
     ]
    }
   ],
   "source": [
    "print(x)"
   ]
  },
  {
   "cell_type": "code",
   "execution_count": 10,
   "id": "77bbb092-e52b-49ac-a0be-d13fbe6ad2b5",
   "metadata": {},
   "outputs": [
    {
     "name": "stdout",
     "output_type": "stream",
     "text": [
      "10\n"
     ]
    }
   ],
   "source": [
    "print(y)"
   ]
  },
  {
   "cell_type": "code",
   "execution_count": null,
   "id": "1bf73809-c156-41ea-8d99-04951d7137f1",
   "metadata": {},
   "outputs": [],
   "source": [
    "\"\"\" 2 Create a program that calculates the area of a rectangle. Take the length and\n",
    "width as inputs from the user and store them in variables. Calculate and\n",
    "display the area.\"\"\""
   ]
  },
  {
   "cell_type": "code",
   "execution_count": 14,
   "id": "7bd98c24-208c-4c51-a3b8-4eca72925c01",
   "metadata": {},
   "outputs": [
    {
     "name": "stdout",
     "output_type": "stream",
     "text": [
      "area of rectange =  50\n"
     ]
    }
   ],
   "source": [
    "length = 10\n",
    "breadth = 5\n",
    "\n",
    "print(\"area of rectange = \",length*breadth)"
   ]
  },
  {
   "cell_type": "code",
   "execution_count": 17,
   "id": "d4d8b529-f052-4380-bf0c-ced829f1d59f",
   "metadata": {},
   "outputs": [
    {
     "name": "stdout",
     "output_type": "stream",
     "text": [
      "212.0\n"
     ]
    }
   ],
   "source": [
    "\"\"\"Write a Python program that converts temperatures from Celsius to\n",
    "Fahrenheit. Take the temperature in Celsius as inpu_in_store it  in a variable,\n",
    "convert it to Fahrenheit, and display the result.\"\"\"\n",
    "\n",
    "temperature_in_Celsius =  100\n",
    "\n",
    "temperature_in_Fahrenheit = temperature_in_Celsius * 9/5 + 32\n",
    "\n",
    "print(temperature_in_Fahrenheit)\n"
   ]
  },
  {
   "cell_type": "code",
   "execution_count": 18,
   "id": "91d3e4b6-298d-43b3-aa6b-8e889e8de308",
   "metadata": {},
   "outputs": [],
   "source": [
    "# String Based Questions\n",
    "\n",
    "\"\"\" Q1 - 1. Write a Python program that takes a string as input and prints the length of\n",
    "the string. \"\"\""
   ]
  },
  {
   "cell_type": "code",
   "execution_count": 26,
   "id": "e1f83cfe-9d25-44a1-8691-8c5a4d5fc8e1",
   "metadata": {},
   "outputs": [
    {
     "name": "stdin",
     "output_type": "stream",
     "text": [
      " I am going to become data scientist\n"
     ]
    },
    {
     "name": "stdout",
     "output_type": "stream",
     "text": [
      "35\n"
     ]
    }
   ],
   "source": [
    "write_a_word = str(input())\n",
    "\n",
    "print(len(write_a_word))"
   ]
  },
  {
   "cell_type": "code",
   "execution_count": 44,
   "id": "86574fc8-dc50-4ccf-b21f-2efef34b56e1",
   "metadata": {},
   "outputs": [
    {
     "name": "stdin",
     "output_type": "stream",
     "text": [
      "Enter your sentence   I am going to become data scientist\n"
     ]
    },
    {
     "name": "stdout",
     "output_type": "stream",
     "text": [
      "13\n"
     ]
    }
   ],
   "source": [
    "\"\"\"2. Create a program that takes a sentence from the user and counts the number\n",
    "of vowels (a, e, i, o, u) in the string.\"\"\"\n",
    "\n",
    "sentence = str(input(\"Enter your sentence \"))\n",
    "\n",
    "vowel_count = 0\n",
    "               \n",
    "for i in sentence:\n",
    "    if i in \"aeiouAEIOU\":\n",
    "        vowel_count += 1\n",
    "               \n",
    "print(vowel_count)\n",
    "        \n"
   ]
  },
  {
   "cell_type": "code",
   "execution_count": null,
   "id": "a7a65f2a-3eb0-4e32-8592-10afe61abf89",
   "metadata": {},
   "outputs": [],
   "source": [
    "\"\"\" Q3 - Given a string, reverse the order of characters using string slicing and print\n",
    "the reversed string.\"\"\""
   ]
  },
  {
   "cell_type": "code",
   "execution_count": 45,
   "id": "dc67a1f9-50ef-4b30-b1f1-e1ee803332b0",
   "metadata": {},
   "outputs": [
    {
     "name": "stdout",
     "output_type": "stream",
     "text": [
      "tsitneics atad emoceb ot gniog ma I\n"
     ]
    }
   ],
   "source": [
    "a = \"I am going to become data scientist\"\n",
    "print(a[::-1])"
   ]
  },
  {
   "cell_type": "code",
   "execution_count": null,
   "id": "db4d08ff-6346-428f-8a4f-4efa872bb635",
   "metadata": {},
   "outputs": [],
   "source": [
    "\"\"\" Q4 : Write a program that takes a string as input and checks if it is a palindrome\n",
    "(reads the same forwards and backwards).\"\"\""
   ]
  },
  {
   "cell_type": "code",
   "execution_count": 46,
   "id": "14accafd-4436-487f-a7dd-a4ea9b5522a0",
   "metadata": {},
   "outputs": [
    {
     "name": "stdin",
     "output_type": "stream",
     "text": [
      " level\n"
     ]
    },
    {
     "name": "stdout",
     "output_type": "stream",
     "text": [
      "Given String is palindrome\n"
     ]
    }
   ],
   "source": [
    "b = str(input())\n",
    "\n",
    "\n",
    "\n",
    "if b == b[::-1]:\n",
    "    print(\"Given String is palindrome\")\n",
    "else:\n",
    "    print(\"Given String is not palindrome\")"
   ]
  },
  {
   "cell_type": "code",
   "execution_count": null,
   "id": "41cf2fbd-a09a-4052-b203-229c55ba9d9a",
   "metadata": {},
   "outputs": [],
   "source": [
    "\"\"\" Q5: Create a program that takes a string as input and removes all the spaces from\n",
    "it. Print the modified string without spaces.\"\"\""
   ]
  },
  {
   "cell_type": "code",
   "execution_count": 47,
   "id": "1f51f495-2cd2-420b-b7e1-018d4d7f32b1",
   "metadata": {},
   "outputs": [
    {
     "name": "stdin",
     "output_type": "stream",
     "text": [
      " I am going to become data scientist\n"
     ]
    }
   ],
   "source": [
    "c = str(input())\n",
    "\n",
    "c_without_space = c.replace(\" \",\"\")\n",
    "\n"
   ]
  },
  {
   "cell_type": "code",
   "execution_count": 48,
   "id": "22c61c08-f09d-4749-bedb-23ce6c5485aa",
   "metadata": {},
   "outputs": [
    {
     "name": "stdout",
     "output_type": "stream",
     "text": [
      "Iamgoingtobecomedatascientist\n"
     ]
    }
   ],
   "source": [
    "print(c_without_space)"
   ]
  },
  {
   "cell_type": "code",
   "execution_count": null,
   "id": "8cf19d65-b1a8-43e4-a502-a9b233163fa9",
   "metadata": {},
   "outputs": [],
   "source": []
  }
 ],
 "metadata": {
  "kernelspec": {
   "display_name": "Python 3 (ipykernel)",
   "language": "python",
   "name": "python3"
  },
  "language_info": {
   "codemirror_mode": {
    "name": "ipython",
    "version": 3
   },
   "file_extension": ".py",
   "mimetype": "text/x-python",
   "name": "python",
   "nbconvert_exporter": "python",
   "pygments_lexer": "ipython3",
   "version": "3.10.8"
  }
 },
 "nbformat": 4,
 "nbformat_minor": 5
}
