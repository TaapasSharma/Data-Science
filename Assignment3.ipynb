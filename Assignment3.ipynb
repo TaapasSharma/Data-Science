{
 "cells": [
  {
   "cell_type": "code",
   "execution_count": 55,
   "id": "f0f3d0f8-6f1f-42b9-9482-e1e51d4a3ed8",
   "metadata": {},
   "outputs": [
    {
     "name": "stdout",
     "output_type": "stream",
     "text": [
      "<function collate_odd_numbers at 0x7f6a6a782c20>\n"
     ]
    }
   ],
   "source": [
    "\"\"\"Q1. Which keyword is used to create a function? Create a function to return a list of odd numbers in the\n",
    "range of 1 to 25.\"\"\"\n",
    "\n",
    "#Answer: \"def\" as a keyword is used to create a function\n",
    "\n",
    "\n",
    "def collate_odd_numbers(l):\n",
    "    l1 = []\n",
    "    for i in l:\n",
    "        if i % 2 != 0:\n",
    "            l1.append(i)\n",
    "    return(l1)\n",
    "\n",
    "print(collate_odd_numbers)\n",
    "\n",
    "\n",
    "\n"
   ]
  },
  {
   "cell_type": "code",
   "execution_count": 56,
   "id": "69df1a96-4435-4f3f-abb5-0039e129346c",
   "metadata": {},
   "outputs": [
    {
     "data": {
      "text/plain": [
       "[1, 3, 5, 7, 9, 11, 13, 15, 17, 19, 21, 23, 25]"
      ]
     },
     "execution_count": 56,
     "metadata": {},
     "output_type": "execute_result"
    }
   ],
   "source": [
    "collate_odd_numbers(range(1,26))"
   ]
  },
  {
   "cell_type": "code",
   "execution_count": 1,
   "id": "a32a4176-d393-4e40-a096-1065005fa5f2",
   "metadata": {},
   "outputs": [],
   "source": [
    "\"\"\"Why *args and **kwargs is used in some functions? Create a function each for *args and **kwargs\n",
    "to demonstrate their use.\"\"\"\n",
    "\n",
    "# *args are used when you have unknown number of values to use\n",
    "\n",
    "\"\"\" **kwargs is used when you have unknown number of values to use and you also want to assigne a key to\n",
    "the value as well also when Kwargs is used it stores extra keyword argument into a dictionary\"\"\" \n",
    "\n",
    "def function1(*args):\n",
    "    for i in args:\n",
    "        print(i)\n",
    "        "
   ]
  },
  {
   "cell_type": "code",
   "execution_count": 2,
   "id": "5a1f79c5-2d13-488f-98b2-3cdac9951002",
   "metadata": {},
   "outputs": [
    {
     "name": "stdout",
     "output_type": "stream",
     "text": [
      "1\n",
      "2\n",
      "3\n",
      "4\n",
      "5\n",
      "6\n",
      "7\n",
      "8\n",
      "9\n"
     ]
    }
   ],
   "source": [
    "function1(1,2,3,4,5,6,7,8,9)"
   ]
  },
  {
   "cell_type": "code",
   "execution_count": 3,
   "id": "f0164d03-0af9-4179-87ad-c22d8db146b5",
   "metadata": {},
   "outputs": [],
   "source": [
    "def function2(**kwargs):\n",
    "    for key,value in kwargs.items():\n",
    "        print(key,value)\n",
    "        \n"
   ]
  },
  {
   "cell_type": "code",
   "execution_count": 4,
   "id": "68dcfd8b-75d0-4552-aaf5-29a7778dd5ff",
   "metadata": {},
   "outputs": [
    {
     "name": "stdout",
     "output_type": "stream",
     "text": [
      "name Taapas\n",
      "Age 24\n",
      "location mumbai\n"
     ]
    }
   ],
   "source": [
    "function2(name=\"Taapas\",Age=24,location=\"mumbai\")"
   ]
  },
  {
   "cell_type": "code",
   "execution_count": 12,
   "id": "44499896-9bec-4abe-9788-e1df907b7d14",
   "metadata": {},
   "outputs": [],
   "source": [
    "\"\"\" Q3- What is an iterator in python? Name the method used to initialise the iterator object and the method\n",
    "used for iteration. Use these methods to print the first five elements of the given list [2, 4, 6, 8, 10, 12, 14,\n",
    "16, 18, 20]. \"\"\"\n",
    "\n",
    "# Iterator in python is used to iterate collection of data such as list,tulip etc\n",
    "# The method used to initialise the iterator object and the method used is iter()\n",
    "\n",
    "list = [2, 4, 6, 8, 10, 12, 14,16, 18, 20]\n",
    "my_iterator = iter(list)"
   ]
  },
  {
   "cell_type": "code",
   "execution_count": 13,
   "id": "fa471590-40fa-4d8c-b6f3-66b1eef87eb1",
   "metadata": {},
   "outputs": [
    {
     "name": "stdout",
     "output_type": "stream",
     "text": [
      "2\n",
      "4\n",
      "6\n",
      "8\n",
      "10\n"
     ]
    }
   ],
   "source": [
    "print(next(my_iterator))\n",
    "print(next(my_iterator))\n",
    "print(next(my_iterator))\n",
    "print(next(my_iterator))\n",
    "print(next(my_iterator))"
   ]
  },
  {
   "cell_type": "code",
   "execution_count": 21,
   "id": "5872c3bc-5fd9-4525-aef9-5e4355dc0e03",
   "metadata": {},
   "outputs": [],
   "source": [
    "\"\"\"Q4 What is a generator function in python? Why yield keyword is used? Give an example of a generator\n",
    "function.\"\"\"\n",
    "\n",
    "# generator function is used to store a code so that it is stored and can be used further in more memory efficient way\n",
    "\n",
    "\"\"\"yield function is used to produce next value in sequence, it halts the excution\n",
    "and remember its internal state and returns the yielded value until generator function is called upon again\"\"\"\n",
    "\n",
    "# Example of generator function\n",
    "\n",
    "def count_upto(x):\n",
    "    i = 1\n",
    "    while i <= x:\n",
    "        yield i\n",
    "        i += 1\n",
    "    \n"
   ]
  },
  {
   "cell_type": "code",
   "execution_count": 23,
   "id": "220ba48b-2214-4029-b465-002521a78829",
   "metadata": {},
   "outputs": [
    {
     "name": "stdout",
     "output_type": "stream",
     "text": [
      "<generator object count_upto at 0x7f5066bb8890>\n"
     ]
    }
   ],
   "source": [
    "print(count_upto(5))"
   ]
  },
  {
   "cell_type": "code",
   "execution_count": 24,
   "id": "e632c076-72a4-44a8-bded-0e66b34fee28",
   "metadata": {},
   "outputs": [
    {
     "name": "stdout",
     "output_type": "stream",
     "text": [
      "1\n",
      "2\n",
      "3\n",
      "4\n",
      "5\n"
     ]
    }
   ],
   "source": [
    "for i in count_upto(5):\n",
    "    print (i)"
   ]
  },
  {
   "cell_type": "code",
   "execution_count": 1,
   "id": "0737b486-9b4f-4515-a044-afb128984d6f",
   "metadata": {},
   "outputs": [
    {
     "name": "stdout",
     "output_type": "stream",
     "text": [
      "2\n",
      "3\n",
      "5\n",
      "7\n",
      "11\n",
      "13\n",
      "17\n",
      "19\n",
      "23\n",
      "29\n",
      "31\n",
      "37\n",
      "41\n",
      "43\n",
      "47\n",
      "53\n",
      "59\n",
      "61\n",
      "67\n",
      "71\n"
     ]
    }
   ],
   "source": [
    "\"\"\"Q5 Create a generator function for prime numbers less than 1000. Use the next() method to print the\n",
    "first 20 prime numbers.\"\"\"\n",
    "\n",
    "def prime_generator():\n",
    "    primes = [] #where we will store prime numbers\n",
    "    num = 2 # smallest prime number\n",
    "    while num < 1000:\n",
    "        is_prime = True #assuming all are prime\n",
    "        for prime in primes:\n",
    "            if num % prime == 0:\n",
    "                is_prime = False\n",
    "                break\n",
    "                \n",
    "        if is_prime:\n",
    "            primes.append(num)\n",
    "            yield num\n",
    "                \n",
    "        num += 1\n",
    "                \n",
    "prime_gen = prime_generator()\n",
    "\n",
    "for i in range(20):\n",
    "    prime = next(prime_gen)\n",
    "    print(prime)\n",
    "            \n",
    "\n",
    "    \n",
    "            \n",
    "    \n",
    "    "
   ]
  },
  {
   "cell_type": "code",
   "execution_count": 2,
   "id": "f5f877b0-0a58-40f5-b854-7397652d211b",
   "metadata": {},
   "outputs": [
    {
     "name": "stdout",
     "output_type": "stream",
     "text": [
      "0\n",
      "1\n",
      "1\n",
      "2\n",
      "3\n",
      "5\n",
      "8\n",
      "13\n",
      "21\n",
      "34\n"
     ]
    }
   ],
   "source": [
    "\"\"\"Q6. Write a python program to print the first 10 Fibonacci numbers using a while loop.\"\"\"\n",
    "\n",
    "a,b = 0,1 # these variable represent first 2 fibonacci no.\n",
    "\n",
    "count = 0 #variable set a 0 to keep trach how many fibonacci number we have printed so far\n",
    "\n",
    "while count<10: #  while loop that will continue as long as the value of count is less than 10.\n",
    "    \n",
    "    print(a) # this will show the present value of a\n",
    "    \n",
    "    a,b=b,b+a # we update the values of a and b to generate the next Fibonacci number.\n",
    "    \n",
    "    count += 1 # increase the value of count by 1 till loop ends"
   ]
  },
  {
   "cell_type": "code",
   "execution_count": null,
   "id": "fcc74497-2060-4d9b-be73-8c0cfea0a356",
   "metadata": {},
   "outputs": [],
   "source": []
  },
  {
   "cell_type": "code",
   "execution_count": null,
   "id": "f8a2b42d-4064-4122-b40b-1897738d8db0",
   "metadata": {},
   "outputs": [],
   "source": [
    "\"\"\"Q7. Write a List Comprehension to iterate through the given string: ‘pwskills’.\n",
    "Expected output: ['p', 'w', 's', 'k', 'i', 'l', 'l', 's']\"\"\""
   ]
  },
  {
   "cell_type": "code",
   "execution_count": 3,
   "id": "2ea6e7bc-0c20-4f91-a812-c648627e2b2b",
   "metadata": {},
   "outputs": [
    {
     "name": "stdout",
     "output_type": "stream",
     "text": [
      "['p', 'w', 's', 'k', 'i', 'l', 'l', 's']\n"
     ]
    }
   ],
   "source": [
    "x = 'pwskills'\n",
    "\n",
    "x = 'pwskills'\n",
    "\n",
    "print(list(x))\n"
   ]
  },
  {
   "cell_type": "code",
   "execution_count": null,
   "id": "acaf9ea6-da5a-4cab-9280-487edbb685e4",
   "metadata": {},
   "outputs": [],
   "source": []
  },
  {
   "cell_type": "code",
   "execution_count": 5,
   "id": "5d09f46a-11a1-42e5-b386-7126036aa0c2",
   "metadata": {},
   "outputs": [
    {
     "name": "stdout",
     "output_type": "stream",
     "text": [
      "given number is Palindrome\n"
     ]
    }
   ],
   "source": [
    "\"\"\"Q8. Write a python program to check whether a given number is Palindrome or not using a while loop.\"\"\"\n",
    "\n",
    "\n",
    "a = 112211\n",
    "\n",
    "number_str = str(a)\n",
    "reversed_str = number_str[::-1]\n",
    "reversed_num = int(reversed_str)\n",
    "\n",
    "while a == reversed_num:\n",
    "    print(\"given number is Palindrome\")\n",
    "    break\n",
    "else:\n",
    "    print(\"given number is not Palindrome\")"
   ]
  },
  {
   "cell_type": "code",
   "execution_count": 1,
   "id": "c6dd2da5-42ed-48d9-9f69-83e5aff9ed70",
   "metadata": {},
   "outputs": [
    {
     "name": "stdout",
     "output_type": "stream",
     "text": [
      "[1, 3, 5, 7, 9, 11, 13, 15, 17, 19, 21, 23, 25, 27, 29, 31, 33, 35, 37, 39, 41, 43, 45, 47, 49, 51, 53, 55, 57, 59, 61, 63, 65, 67, 69, 71, 73, 75, 77, 79, 81, 83, 85, 87, 89, 91, 93, 95, 97, 99]\n"
     ]
    }
   ],
   "source": [
    "\"\"\" Q9. Write a code to print odd numbers from 1 to 100 using list comprehension.\"\"\"\n",
    "\n",
    "numbers = range(1,101)\n",
    "odd_numbers = [ x for x in numbers if x % 2 != 0]\n",
    "print(odd_numbers)"
   ]
  },
  {
   "cell_type": "code",
   "execution_count": null,
   "id": "47dae026-04f8-4b0f-8657-50a812a71995",
   "metadata": {},
   "outputs": [],
   "source": []
  }
 ],
 "metadata": {
  "kernelspec": {
   "display_name": "Python 3 (ipykernel)",
   "language": "python",
   "name": "python3"
  },
  "language_info": {
   "codemirror_mode": {
    "name": "ipython",
    "version": 3
   },
   "file_extension": ".py",
   "mimetype": "text/x-python",
   "name": "python",
   "nbconvert_exporter": "python",
   "pygments_lexer": "ipython3",
   "version": "3.10.8"
  }
 },
 "nbformat": 4,
 "nbformat_minor": 5
}
