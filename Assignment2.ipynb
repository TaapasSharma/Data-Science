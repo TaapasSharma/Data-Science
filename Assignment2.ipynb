{
 "cells": [
  {
   "cell_type": "code",
   "execution_count": null,
   "id": "5ed7fb27-b5e9-4509-b673-fbb15a548663",
   "metadata": {},
   "outputs": [],
   "source": [
    "\"\"\"Q1. How do you comment code in Python? What are the different types of comments?\"\"\""
   ]
  },
  {
   "cell_type": "code",
   "execution_count": null,
   "id": "e0d34ec3-9efb-4028-90a2-66cf293140ff",
   "metadata": {},
   "outputs": [],
   "source": [
    "\"\"\"Answer1 - When you need to clarify somthing in a code you can use comment to write it in python along with codes.\n",
    "Types of comment\n",
    "1- Single line comment by use of #\n",
    "2 Multi line comments by use of \" \" or \"\" \"\" or even three times\"\"\""
   ]
  },
  {
   "cell_type": "code",
   "execution_count": null,
   "id": "86bdd934-28c1-4659-a8b3-629f6a90eebc",
   "metadata": {},
   "outputs": [],
   "source": [
    "\"\"\" Q2. What are variables in Python? How do you declare and assign values to variables? \"\"\""
   ]
  },
  {
   "cell_type": "code",
   "execution_count": 9,
   "id": "745ddf4f-dc09-4b6c-8c0c-eee1e46c98cf",
   "metadata": {},
   "outputs": [],
   "source": [
    "#Answer 2 -Variables are used to store & manupulate the data, when you assign a value to something it becomes variable, please refer below example\n",
    "a = 10\n",
    "b = 20\n",
    "# here a & b are variables, since I declared there value 10 & 20 hence these values are assigned to the variables "
   ]
  },
  {
   "cell_type": "code",
   "execution_count": 10,
   "id": "86e5e708-09e9-4d96-9707-60672fe3588e",
   "metadata": {},
   "outputs": [],
   "source": [
    "#Q3 - How do you convert one data type to another in Python?"
   ]
  },
  {
   "cell_type": "code",
   "execution_count": 16,
   "id": "c32eecaa-cd4c-4f93-aa83-fec01a2c0bfd",
   "metadata": {},
   "outputs": [
    {
     "data": {
      "text/plain": [
       "int"
      ]
     },
     "execution_count": 16,
     "metadata": {},
     "output_type": "execute_result"
    }
   ],
   "source": [
    "#Answer 3 - By using type conversion,to convert a data type you need to give command by writing data type in front of variable, please refer below example\n",
    "a = 1\n",
    "type(a)"
   ]
  },
  {
   "cell_type": "code",
   "execution_count": 20,
   "id": "6e4ea268-f4b3-4b4c-81a3-708e9a93329a",
   "metadata": {},
   "outputs": [
    {
     "name": "stdout",
     "output_type": "stream",
     "text": [
      "<class 'str'>\n"
     ]
    }
   ],
   "source": [
    "print(type(str(a)))"
   ]
  },
  {
   "cell_type": "code",
   "execution_count": null,
   "id": "5b4a3021-55ad-46f3-a153-c3e040f9395b",
   "metadata": {},
   "outputs": [],
   "source": [
    "#Q4. How do you write and execute a Python script from the command line?"
   ]
  },
  {
   "cell_type": "code",
   "execution_count": 22,
   "id": "3ef38a58-2042-46a3-a2ad-7d7d814fee46",
   "metadata": {},
   "outputs": [],
   "source": [
    "#Answer 4 - type python code that you want to execute and and click on run button or pess SHIFT + ENTER"
   ]
  },
  {
   "cell_type": "code",
   "execution_count": 23,
   "id": "992d586d-84e5-4aae-b0c1-4e1f469902b7",
   "metadata": {},
   "outputs": [
    {
     "data": {
      "text/plain": [
       "[2, 3]"
      ]
     },
     "execution_count": 23,
     "metadata": {},
     "output_type": "execute_result"
    }
   ],
   "source": [
    "#Q5. Given a list my_list = [1, 2, 3, 4, 5], write the code to slice the list and obtain the sub-list [2, 3].\n",
    "my_list = [1, 2, 3, 4, 5]\n",
    "my_list[1:3]"
   ]
  },
  {
   "cell_type": "code",
   "execution_count": 24,
   "id": "f72d7405-da43-4488-be5b-3680d998494b",
   "metadata": {},
   "outputs": [],
   "source": [
    "#Q6. What is a complex number in mathematics, and how is it represented in Python?\n",
    "#Answer - in python complex numbers are represended using complex data type and imaginary part of complex numbers is denoted by j Or J , please refer example below.\n",
    "z=1+3j"
   ]
  },
  {
   "cell_type": "code",
   "execution_count": 25,
   "id": "161284dc-4b7d-46e9-b872-bdde16d778a8",
   "metadata": {},
   "outputs": [],
   "source": [
    "#Q7. What is the correct way to declare a variable named age and assign the value 25 to it?\n",
    "\n",
    "age = 25"
   ]
  },
  {
   "cell_type": "code",
   "execution_count": 27,
   "id": "4f45560d-63ba-442d-82c5-cf2e548dbe22",
   "metadata": {},
   "outputs": [
    {
     "data": {
      "text/plain": [
       "float"
      ]
     },
     "execution_count": 27,
     "metadata": {},
     "output_type": "execute_result"
    }
   ],
   "source": [
    "#Q8. Declare a variable named price and assign the value 9.99 to it. What data type does this variable belong to?\n",
    "#Answer = float\n",
    "price = 9.99\n",
    "type(price)"
   ]
  },
  {
   "cell_type": "code",
   "execution_count": 28,
   "id": "75dff345-b41e-42bc-93ee-d19cd3995eea",
   "metadata": {},
   "outputs": [
    {
     "data": {
      "text/plain": [
       "'Taapas Sharma'"
      ]
     },
     "execution_count": 28,
     "metadata": {},
     "output_type": "execute_result"
    }
   ],
   "source": [
    "#Q9. Create a variable named name and assign your full name to it as a string. How would you print the value of this variable?\n",
    "# answer - there are 2 ways to print its value\n",
    "\n",
    "name = \"Taapas Sharma\"\n",
    "name"
   ]
  },
  {
   "cell_type": "code",
   "execution_count": 29,
   "id": "19606f62-72cf-448d-994c-55ef458146b9",
   "metadata": {},
   "outputs": [
    {
     "name": "stdout",
     "output_type": "stream",
     "text": [
      "Taapas Sharma\n"
     ]
    }
   ],
   "source": [
    "print(name)"
   ]
  },
  {
   "cell_type": "code",
   "execution_count": 30,
   "id": "74fe2aec-5a08-4b55-a518-c0fa2f58f777",
   "metadata": {},
   "outputs": [
    {
     "data": {
      "text/plain": [
       "'World'"
      ]
     },
     "execution_count": 30,
     "metadata": {},
     "output_type": "execute_result"
    }
   ],
   "source": [
    "#Q10. Given the string \"Hello, World!\", extract the substring \"World\".\n",
    "a = \"Hello, World\"\n",
    "a[7:12]"
   ]
  },
  {
   "cell_type": "code",
   "execution_count": 31,
   "id": "d04ec18a-f067-4857-ab68-0e21d32605fe",
   "metadata": {},
   "outputs": [],
   "source": [
    "#Q11. Create a variable named \"is_student\" and assign it a boolean value indicating whether you are currently a student or not.\n",
    "is_student=True"
   ]
  },
  {
   "cell_type": "code",
   "execution_count": 32,
   "id": "2eb17a14-da02-4d49-a9d5-dabcf87f855a",
   "metadata": {},
   "outputs": [
    {
     "data": {
      "text/plain": [
       "True"
      ]
     },
     "execution_count": 32,
     "metadata": {},
     "output_type": "execute_result"
    }
   ],
   "source": [
    "is_student"
   ]
  },
  {
   "cell_type": "code",
   "execution_count": null,
   "id": "48102840-28ef-4584-963f-6091be0a1a3b",
   "metadata": {},
   "outputs": [],
   "source": [
    "if is_stydent = True:\n",
    "    print\"I want placement assistance\"\n"
   ]
  }
 ],
 "metadata": {
  "kernelspec": {
   "display_name": "Python 3 (ipykernel)",
   "language": "python",
   "name": "python3"
  },
  "language_info": {
   "codemirror_mode": {
    "name": "ipython",
    "version": 3
   },
   "file_extension": ".py",
   "mimetype": "text/x-python",
   "name": "python",
   "nbconvert_exporter": "python",
   "pygments_lexer": "ipython3",
   "version": "3.10.8"
  }
 },
 "nbformat": 4,
 "nbformat_minor": 5
}
