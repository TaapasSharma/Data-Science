{
 "cells": [
  {
   "cell_type": "code",
   "execution_count": 6,
   "id": "8c3052d3-b88f-4eca-968d-388b90da6cec",
   "metadata": {},
   "outputs": [
    {
     "data": {
      "text/plain": [
       "str"
      ]
     },
     "execution_count": 6,
     "metadata": {},
     "output_type": "execute_result"
    }
   ],
   "source": [
    "\"\"\" Q1. Create one variable containing following type of data:\n",
    "(i) string (ii) list (iii) float (iv) tuple \"\"\"\n",
    "\n",
    "a = (\"taapas\",[1,2,3,4,5],15.50,(\"pwskills\", \"taapas\"))\n",
    "     \n",
    "type(a[0])"
   ]
  },
  {
   "cell_type": "code",
   "execution_count": 7,
   "id": "0877e030-9cef-4624-ab34-45efb1b7c974",
   "metadata": {},
   "outputs": [
    {
     "data": {
      "text/plain": [
       "list"
      ]
     },
     "execution_count": 7,
     "metadata": {},
     "output_type": "execute_result"
    }
   ],
   "source": [
    "a = (\"taapas\",[1,2,3,4,5],15.50,(\"pwskills\", \"taapas\"))\n",
    "type(a[1])"
   ]
  },
  {
   "cell_type": "code",
   "execution_count": 8,
   "id": "b01642fa-e45a-4446-8125-1ba6b2628b98",
   "metadata": {},
   "outputs": [
    {
     "data": {
      "text/plain": [
       "float"
      ]
     },
     "execution_count": 8,
     "metadata": {},
     "output_type": "execute_result"
    }
   ],
   "source": [
    "a = (\"taapas\",[1,2,3,4,5],15.50,(\"pwskills\", \"taapas\"))\n",
    "type(a[2])"
   ]
  },
  {
   "cell_type": "code",
   "execution_count": 10,
   "id": "2d7cb9df-4c8b-4843-a09e-749a60c60555",
   "metadata": {},
   "outputs": [
    {
     "data": {
      "text/plain": [
       "tuple"
      ]
     },
     "execution_count": 10,
     "metadata": {},
     "output_type": "execute_result"
    }
   ],
   "source": [
    "a = (\"taapas\",[1,2,3,4,5],15.50,(\"pwskills\", \"taapas\"))\n",
    "type(a[3])"
   ]
  },
  {
   "cell_type": "code",
   "execution_count": null,
   "id": "853d0793-cb7b-4bfb-b437-4079efbd2183",
   "metadata": {},
   "outputs": [],
   "source": [
    "\"\"\" Q2. Given are some following variables containing data:\n",
    "(i) var1 = ‘ ‘\n",
    "(ii) var2 = ‘[ DS , ML , Python]’\n",
    "(iii) var3 = [ ‘DS’ , ’ML’ , ‘Python’ ]\n",
    "(iv) var4 = 1.\n",
    "\n",
    "What will be the data type of the above given variable.\"\"\"\n",
    "\n",
    "# Answer 2 = (i) invalid , (ii) invalid, (iii) = invalid , (iv) = int"
   ]
  },
  {
   "cell_type": "code",
   "execution_count": 12,
   "id": "70367c7c-a926-4822-9708-efb13e8ccae1",
   "metadata": {},
   "outputs": [
    {
     "ename": "SyntaxError",
     "evalue": "invalid character '‘' (U+2018) (3647581571.py, line 1)",
     "output_type": "error",
     "traceback": [
      "\u001b[0;36m  Cell \u001b[0;32mIn[12], line 1\u001b[0;36m\u001b[0m\n\u001b[0;31m    var1 = ‘ ‘\u001b[0m\n\u001b[0m           ^\u001b[0m\n\u001b[0;31mSyntaxError\u001b[0m\u001b[0;31m:\u001b[0m invalid character '‘' (U+2018)\n"
     ]
    }
   ],
   "source": [
    "var1 = ‘ ‘\n",
    "type(var1)"
   ]
  },
  {
   "cell_type": "code",
   "execution_count": 13,
   "id": "56ded386-f175-466c-ad0c-b86e2fb7ee5a",
   "metadata": {},
   "outputs": [
    {
     "ename": "SyntaxError",
     "evalue": "invalid character '‘' (U+2018) (3990704681.py, line 1)",
     "output_type": "error",
     "traceback": [
      "\u001b[0;36m  Cell \u001b[0;32mIn[13], line 1\u001b[0;36m\u001b[0m\n\u001b[0;31m    var2 = ‘[ DS , ML , Python]’\u001b[0m\n\u001b[0m           ^\u001b[0m\n\u001b[0;31mSyntaxError\u001b[0m\u001b[0;31m:\u001b[0m invalid character '‘' (U+2018)\n"
     ]
    }
   ],
   "source": [
    "var2 = ‘[ DS , ML , Python]’\n",
    "type(var2)"
   ]
  },
  {
   "cell_type": "code",
   "execution_count": 14,
   "id": "60810235-bd72-410b-9741-dc17a9e52313",
   "metadata": {},
   "outputs": [
    {
     "ename": "SyntaxError",
     "evalue": "invalid character '‘' (U+2018) (763556664.py, line 1)",
     "output_type": "error",
     "traceback": [
      "\u001b[0;36m  Cell \u001b[0;32mIn[14], line 1\u001b[0;36m\u001b[0m\n\u001b[0;31m    var3 = [ ‘DS’ , ’ML’ , ‘Python’ ]\u001b[0m\n\u001b[0m             ^\u001b[0m\n\u001b[0;31mSyntaxError\u001b[0m\u001b[0;31m:\u001b[0m invalid character '‘' (U+2018)\n"
     ]
    }
   ],
   "source": [
    "var3 = [ ‘DS’ , ’ML’ , ‘Python’ ]\n",
    "type(var3)"
   ]
  },
  {
   "cell_type": "code",
   "execution_count": 15,
   "id": "461f9952-1487-449b-80e0-02938fd37e18",
   "metadata": {},
   "outputs": [
    {
     "data": {
      "text/plain": [
       "int"
      ]
     },
     "execution_count": 15,
     "metadata": {},
     "output_type": "execute_result"
    }
   ],
   "source": [
    "var4 = 1\n",
    "type(var4)"
   ]
  },
  {
   "cell_type": "code",
   "execution_count": null,
   "id": "d78be1cf-439d-4d38-bdf5-39dcf36d3c9b",
   "metadata": {},
   "outputs": [],
   "source": [
    "\"\"\" Q3. Explain the use of the following operators using an example:\n",
    "(i) /\n",
    "(ii) %\n",
    "(iii) //\n",
    "(iv) ** \"\"\""
   ]
  },
  {
   "cell_type": "code",
   "execution_count": 16,
   "id": "f11be944-ecfe-4032-b58e-a3b8b7134d76",
   "metadata": {},
   "outputs": [
    {
     "data": {
      "text/plain": [
       "3.0"
      ]
     },
     "execution_count": 16,
     "metadata": {},
     "output_type": "execute_result"
    }
   ],
   "source": [
    "# (i) / is used for divide. please refer below example\n",
    "6/2"
   ]
  },
  {
   "cell_type": "code",
   "execution_count": 18,
   "id": "625c07d2-7622-4ed0-9daf-a8bfe971749d",
   "metadata": {},
   "outputs": [
    {
     "data": {
      "text/plain": [
       "1"
      ]
     },
     "execution_count": 18,
     "metadata": {},
     "output_type": "execute_result"
    }
   ],
   "source": [
    "# (ii) % is used for remainder. \n",
    "6%5"
   ]
  },
  {
   "cell_type": "code",
   "execution_count": 20,
   "id": "d1a3d0e8-eb8d-4a47-b170-2d7ba50b08c6",
   "metadata": {},
   "outputs": [
    {
     "data": {
      "text/plain": [
       "2"
      ]
     },
     "execution_count": 20,
     "metadata": {},
     "output_type": "execute_result"
    }
   ],
   "source": [
    "# (iii) // used for floor division. brings the number to nearest whole number\n",
    "\n",
    "15//7"
   ]
  },
  {
   "cell_type": "code",
   "execution_count": 23,
   "id": "65d920d8-7ebc-4815-9af3-ba935660f2d8",
   "metadata": {},
   "outputs": [
    {
     "data": {
      "text/plain": [
       "225"
      ]
     },
     "execution_count": 23,
     "metadata": {},
     "output_type": "execute_result"
    }
   ],
   "source": [
    "# (iv) ** is used for square root\n",
    "\n",
    "15**2"
   ]
  },
  {
   "cell_type": "code",
   "execution_count": null,
   "id": "b2539b72-21f3-4bde-ab3d-9b4cf8150fd4",
   "metadata": {},
   "outputs": [],
   "source": [
    "\"\"\" Q4. Create a list of length 10 of your choice containing multiple types of data. Using for loop print the\n",
    "element and its data type.\"\"\""
   ]
  },
  {
   "cell_type": "code",
   "execution_count": 28,
   "id": "df9e90f9-8703-4801-a8c4-3ea8701ee82e",
   "metadata": {},
   "outputs": [
    {
     "name": "stdout",
     "output_type": "stream",
     "text": [
      "<class 'str'>\n",
      "<class 'bool'>\n",
      "<class 'bool'>\n",
      "<class 'int'>\n",
      "<class 'tuple'>\n",
      "<class 'float'>\n",
      "<class 'str'>\n",
      "<class 'str'>\n",
      "<class 'str'>\n",
      "<class 'int'>\n"
     ]
    }
   ],
   "source": [
    "a=[\"taapas\",True,False,1,(1,2,3),12.54,\"pwskills\",\"inuron\",\"python\",30]\n",
    "for i in a:\n",
    "    print(type(i))\n"
   ]
  },
  {
   "cell_type": "code",
   "execution_count": null,
   "id": "1a0f3dba-51fb-4fed-a02f-83846a789b78",
   "metadata": {},
   "outputs": [],
   "source": [
    "\"\"\" Q5. Using a while loop, verify if the number A is purely divisible by number B and if so then how many\n",
    "times it can be divisible. \"\"\""
   ]
  },
  {
   "cell_type": "code",
   "execution_count": 11,
   "id": "31eb25bf-2d3f-48ea-aefc-5c52d6430ae0",
   "metadata": {},
   "outputs": [
    {
     "name": "stdout",
     "output_type": "stream",
     "text": [
      " A is divisible by B and can be divided times 4\n"
     ]
    }
   ],
   "source": [
    "A = 20\n",
    "B = 5    \n",
    "\n",
    "if A % B == 0:\n",
    "    count = A // B\n",
    "print(\" A is divisible by B and can be divided times\",count)\n"
   ]
  },
  {
   "cell_type": "code",
   "execution_count": null,
   "id": "9eaa219c-e8e1-4c80-b472-1f85db065902",
   "metadata": {},
   "outputs": [],
   "source": [
    "\"\"\"Q6. Create a list containing 25 int type data. Using for loop and if-else condition print if the element is\n",
    "divisible by 3 or not.\"\"\""
   ]
  },
  {
   "cell_type": "code",
   "execution_count": 26,
   "id": "644d6680-ca17-40d4-a168-22b48858f2ff",
   "metadata": {},
   "outputs": [
    {
     "name": "stdout",
     "output_type": "stream",
     "text": [
      "1 is not divisible by 3\n",
      "2 is not divisible by 3\n",
      "3 divisible bt 3\n",
      "4 is not divisible by 3\n",
      "5 is not divisible by 3\n",
      "6 divisible bt 3\n",
      "7 is not divisible by 3\n",
      "8 is not divisible by 3\n",
      "9 divisible bt 3\n",
      "10 is not divisible by 3\n",
      "11 is not divisible by 3\n",
      "12 divisible bt 3\n",
      "13 is not divisible by 3\n",
      "14 is not divisible by 3\n",
      "15 divisible bt 3\n",
      "16 is not divisible by 3\n",
      "17 is not divisible by 3\n",
      "18 divisible bt 3\n",
      "19 is not divisible by 3\n",
      "20 is not divisible by 3\n",
      "21 divisible bt 3\n",
      "22 is not divisible by 3\n",
      "23 is not divisible by 3\n",
      "24 divisible bt 3\n",
      "25 is not divisible by 3\n"
     ]
    }
   ],
   "source": [
    "a = list(range(1,26))\n",
    "for i in a:\n",
    "    if i % 3 == 0:\n",
    "        print(i,\"divisible bt 3\")\n",
    "    else:\n",
    "        print(i,\"is not divisible by 3\")"
   ]
  },
  {
   "cell_type": "code",
   "execution_count": null,
   "id": "e71d81d8-b9c4-487d-aea7-a4576ad7359f",
   "metadata": {},
   "outputs": [],
   "source": [
    "\"\"\"What do you understand about mutable and immutable data types? Give examples for both showing\n",
    "this property.\"\"\"\n",
    "    "
   ]
  },
  {
   "cell_type": "code",
   "execution_count": null,
   "id": "0ce2c540-70cb-45b3-bc00-ce42ed0dc315",
   "metadata": {},
   "outputs": [],
   "source": [
    "#MUTABLE\n",
    "# Mutalble data is changable and function like pop,extend etc can be used. pleaase refer below example"
   ]
  },
  {
   "cell_type": "code",
   "execution_count": 27,
   "id": "1da0b35c-365f-472e-9cf4-25c9d407048b",
   "metadata": {},
   "outputs": [
    {
     "data": {
      "text/plain": [
       "2"
      ]
     },
     "execution_count": 27,
     "metadata": {},
     "output_type": "execute_result"
    }
   ],
   "source": [
    "a = [0,1,2,2,3,4,5]\n",
    "a.pop(2)"
   ]
  },
  {
   "cell_type": "code",
   "execution_count": 28,
   "id": "7dbbac16-62eb-4bbb-aeb9-9228c54bc35a",
   "metadata": {},
   "outputs": [
    {
     "name": "stdout",
     "output_type": "stream",
     "text": [
      "[0, 1, 2, 3, 4, 5]\n"
     ]
    }
   ],
   "source": [
    "print(a)"
   ]
  },
  {
   "cell_type": "code",
   "execution_count": 7,
   "id": "ea3ee351-1212-4270-8ec4-87e370562884",
   "metadata": {},
   "outputs": [
    {
     "ename": "NameError",
     "evalue": "name 'remove' is not defined",
     "output_type": "error",
     "traceback": [
      "\u001b[0;31m---------------------------------------------------------------------------\u001b[0m",
      "\u001b[0;31mNameError\u001b[0m                                 Traceback (most recent call last)",
      "Cell \u001b[0;32mIn[7], line 8\u001b[0m\n\u001b[1;32m      1\u001b[0m \u001b[38;5;66;03m# here we can see after using pop function our data in list has changed.\u001b[39;00m\n\u001b[1;32m      2\u001b[0m \n\u001b[1;32m      3\u001b[0m \u001b[38;5;66;03m#IMMUTABLE\u001b[39;00m\n\u001b[1;32m      4\u001b[0m \u001b[38;5;66;03m# immutable data can not be changed and no addition or reduction can be done on data, please refer below example\u001b[39;00m\n\u001b[1;32m      6\u001b[0m a \u001b[38;5;241m=\u001b[39m (\u001b[38;5;241m0\u001b[39m,\u001b[38;5;241m1\u001b[39m,\u001b[38;5;241m2\u001b[39m,\u001b[38;5;241m3\u001b[39m,\u001b[38;5;241m4\u001b[39m,\u001b[38;5;241m5\u001b[39m)\n\u001b[0;32m----> 8\u001b[0m a,\u001b[43mremove\u001b[49m(\u001b[38;5;241m1\u001b[39m)\n",
      "\u001b[0;31mNameError\u001b[0m: name 'remove' is not defined"
     ]
    }
   ],
   "source": [
    "# here we can see after using pop function our data in list has changed.\n",
    "\n",
    "#IMMUTABLE\n",
    "# immutable data can not be changed and no addition or reduction can be done on data, please refer below example\n",
    "\n",
    "a = (0,1,2,3,4,5)\n",
    "\n",
    "a,remove(1)"
   ]
  },
  {
   "cell_type": "code",
   "execution_count": null,
   "id": "8c78210d-ddd9-4695-88ef-51074e44e70e",
   "metadata": {},
   "outputs": [],
   "source": []
  }
 ],
 "metadata": {
  "kernelspec": {
   "display_name": "Python 3 (ipykernel)",
   "language": "python",
   "name": "python3"
  },
  "language_info": {
   "codemirror_mode": {
    "name": "ipython",
    "version": 3
   },
   "file_extension": ".py",
   "mimetype": "text/x-python",
   "name": "python",
   "nbconvert_exporter": "python",
   "pygments_lexer": "ipython3",
   "version": "3.10.8"
  }
 },
 "nbformat": 4,
 "nbformat_minor": 5
}
